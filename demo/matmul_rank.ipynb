{
 "cells": [
  {
   "metadata": {},
   "cell_type": "markdown",
   "source": [
    "## Discovering matrix multiplication algorithms\n",
    "\n",
    "Here we illustrate how cool FedroTensor is at finding fast matrix multiplication algorithms.\n",
    "Namely, our task is to minimise the number of scalar multiplications.\n",
    "This problem is equivalent to finding the lowest possible CP rank of a certain 3-dimensional tensor.\n",
    "\n",
    "Let's start with the 2x2 case. The naive approach results in 8 (=2x2x2) scalar multiplications, but there is a way to do it with only 7 multiplications, known as the Strassen algorithm.\n",
    "Let's see if our methods can recover it."
   ],
   "id": "94cd09350a83594c"
  },
  {
   "cell_type": "code",
   "id": "initial_id",
   "metadata": {
    "ExecuteTime": {
     "end_time": "2025-10-05T15:31:17.425256Z",
     "start_time": "2025-10-05T15:31:14.873132Z"
    }
   },
   "source": [
    "from FedroTensor.tensor_rank import cp_rank\n",
    "from FedroTensor.matmul_tensor import build_matmul_tensor\n",
    "\n",
    "T = build_matmul_tensor(2, 2, 2)\n",
    "r, factors = cp_rank(T)\n",
    "r"
   ],
   "outputs": [
    {
     "data": {
      "text/plain": [
       "7"
      ]
     },
     "execution_count": 1,
     "metadata": {},
     "output_type": "execute_result"
    }
   ],
   "execution_count": 1
  },
  {
   "metadata": {},
   "cell_type": "markdown",
   "source": "The rank indeed corresponds to the Strassen algorithm cost. Let's see if we can recover the algorithm from the factors.",
   "id": "7959a31222810f6f"
  },
  {
   "metadata": {
    "ExecuteTime": {
     "end_time": "2025-10-05T15:31:19.824763Z",
     "start_time": "2025-10-05T15:31:19.818029Z"
    }
   },
   "cell_type": "code",
   "source": "factors",
   "id": "a9625d71b751ac99",
   "outputs": [
    {
     "data": {
      "text/plain": [
       "[array([[-0.91604053, -1.04797915,  0.04798972, -0.97228425, -0.04033627,\n",
       "         -0.46841578, -0.51135352],\n",
       "        [ 0.02308362,  0.02618851,  0.07641874,  0.10049277,  0.08055061,\n",
       "          0.93541443, -0.81567343],\n",
       "        [ 0.64154406, -0.47116093,  0.62031795,  0.15212342, -0.52260128,\n",
       "         -0.21039562,  0.35803647],\n",
       "        [-0.01605648,  0.01178611,  0.98923043,  0.98506236,  1.04312642,\n",
       "          0.4203476 ,  0.57119605]]),\n",
       " array([[-0.784294  , -0.14594683, -0.96202094, -0.92970176,  0.90084842,\n",
       "         -0.00412017, -0.02188905],\n",
       "        [ 0.64320303, -1.01814861, -0.36283573, -0.37720918,  0.33994756,\n",
       "         -0.0280733 ,  0.01798729],\n",
       "        [ 0.49180259, -0.07291947, -0.48186464,  0.41766118, -0.56497485,\n",
       "         -0.1588752 , -0.87011186],\n",
       "        [-0.40316805, -0.50980325, -0.18170665, -0.91362354, -0.21286316,\n",
       "         -1.10911864,  0.71337682]]),\n",
       " array([[ 0.16880889, -0.23046733, -0.65430541,  0.97431601,  0.30126016,\n",
       "         -0.7425601 ,  1.17795876],\n",
       "        [-0.44763677,  0.61099258,  0.09343743,  0.27460365,  0.36763018,\n",
       "         -0.90569728, -0.16889685],\n",
       "        [-0.37563749, -0.32899908, -0.93451002,  0.27985983, -0.67042809,\n",
       "          0.05722706, -0.09086421],\n",
       "        [ 0.99573023,  0.87260162,  0.13405448, -0.96265021, -0.81708206,\n",
       "          0.06973836,  0.01302303]])]"
      ]
     },
     "execution_count": 2,
     "metadata": {},
     "output_type": "execute_result"
    }
   ],
   "execution_count": 2
  },
  {
   "metadata": {},
   "cell_type": "markdown",
   "source": [
    "Not helpful indeed...\n",
    "\n",
    "Ideally, we would like to have integer factors, or at least the rational ones. We can compute them by specifying `rational=True`:"
   ],
   "id": "2719b34bfb507cda"
  },
  {
   "metadata": {
    "ExecuteTime": {
     "end_time": "2025-10-05T15:31:37.264671Z",
     "start_time": "2025-10-05T15:31:24.969307Z"
    }
   },
   "cell_type": "code",
   "source": [
    "r, factors = cp_rank(T, rational=True)\n",
    "factors"
   ],
   "id": "b7606493fa9001e7",
   "outputs": [
    {
     "data": {
      "text/plain": [
       "[array([[ 0.,  1., -1.,  0.,  0., -1., -1.],\n",
       "        [ 0.,  0.,  1.,  0.,  1.,  0.,  0.],\n",
       "        [ 0.,  0.,  0.,  1.,  0., -1.,  0.],\n",
       "        [-1.,  0.,  0., -1.,  1.,  0., -1.]]),\n",
       " array([[-1.,  0.,  0., -1.,  0.,  1., -1.],\n",
       "        [ 0., -1.,  0.,  0.,  0.,  1.,  0.],\n",
       "        [-1.,  0.,  0.,  0., -1.,  0.,  0.],\n",
       "        [ 0., -1., -1.,  0., -1.,  0.,  1.]]),\n",
       " array([[-1.,  0.,  1.,  0., -1.,  0.,  1.],\n",
       "        [ 0., -1., -1.,  0.,  0.,  0.,  0.],\n",
       "        [ 1.,  0.,  0., -1.,  0.,  0.,  0.],\n",
       "        [ 0.,  1.,  0.,  1.,  0., -1., -1.]])]"
      ]
     },
     "execution_count": 3,
     "metadata": {},
     "output_type": "execute_result"
    }
   ],
   "execution_count": 3
  },
  {
   "metadata": {},
   "cell_type": "markdown",
   "source": [
    "That's much better, as we can now write down the algorithm precisely.\n",
    "\n",
    "Let's consider the 3x3 case. The best known algorithm (the Laderman's algorithm) has 23 multiplications. Remarkably, our method manages to find rank 23:"
   ],
   "id": "34cc62d407760b2b"
  },
  {
   "metadata": {
    "ExecuteTime": {
     "end_time": "2025-10-05T15:31:54.165669Z",
     "start_time": "2025-10-05T15:31:43.251107Z"
    }
   },
   "cell_type": "code",
   "source": [
    "T = build_matmul_tensor(3, 3, 3)\n",
    "r, factors = cp_rank(T)\n",
    "r"
   ],
   "id": "eee0add1b954c25",
   "outputs": [
    {
     "data": {
      "text/plain": [
       "23"
      ]
     },
     "execution_count": 4,
     "metadata": {},
     "output_type": "execute_result"
    }
   ],
   "execution_count": 4
  },
  {
   "metadata": {},
   "cell_type": "markdown",
   "source": "Computing rational factors takes slightly longer, but it's definitely worth it:",
   "id": "5498fd1a7c4cf0b5"
  },
  {
   "metadata": {
    "ExecuteTime": {
     "end_time": "2025-10-05T15:33:38.323678Z",
     "start_time": "2025-10-05T15:32:00.189741Z"
    }
   },
   "cell_type": "code",
   "source": [
    "r, factors = cp_rank(T, rational=True)\n",
    "factors"
   ],
   "id": "713d2114c9002a0d",
   "outputs": [
    {
     "data": {
      "text/plain": [
       "[array([[ 0.,  0.,  0.,  0.,  1.,  0.,  0.,  0.,  0.,  0.,  0.,  0.,  0.,\n",
       "          0.,  0.,  0.,  0.,  1.,  0.,  0.,  1.,  0.,  0.],\n",
       "        [ 0.,  0.,  0.,  0., -1.,  0., -1.,  0.,  0.,  0.,  0.,  0.,  0.,\n",
       "         -1., -1., -1.,  0., -1., -1.,  0.,  0.,  0.,  0.],\n",
       "        [-1.,  0.,  0.,  0.,  1.,  0.,  0.,  1.,  0.,  0.,  0.,  0.,  0.,\n",
       "          0.,  0., -1.,  0.,  1.,  0.,  0.,  0., -1.,  0.],\n",
       "        [ 0.,  0.,  0.,  1.,  0.,  0.,  0.,  0.,  0., -1.,  0., -1.,  0.,\n",
       "          0.,  0.,  0.,  0.,  0.,  1.,  1., -1.,  0.,  0.],\n",
       "        [ 0.,  0.,  0., -1.,  0., -1.,  0.,  0.,  0.,  1.,  0.,  1.,  0.,\n",
       "          1.,  1.,  1.,  0.,  0.,  0.,  0.,  0.,  0.,  0.],\n",
       "        [ 0.,  0.,  0.,  0.,  0., -1.,  0.,  0.,  0.,  0., -1.,  0.,  0.,\n",
       "          1.,  0.,  1.,  0.,  0.,  0.,  0.,  0.,  0., -1.],\n",
       "        [ 0.,  0.,  1.,  1.,  0.,  0.,  0.,  0., -1.,  0.,  1.,  0.,  0.,\n",
       "          0.,  0.,  0.,  0.,  0.,  0.,  0.,  1.,  1.,  0.],\n",
       "        [ 0.,  0.,  0.,  0.,  0.,  0.,  0.,  0.,  0.,  0.,  0., -1.,  1.,\n",
       "          0.,  0.,  0., -1., -0.,  0.,  0.,  0.,  0.,  0.],\n",
       "        [-1., -1.,  0.,  1.,  0.,  0.,  0.,  0., -1.,  0.,  1.,  0.,  0.,\n",
       "          0.,  0., -1.,  0.,  0.,  0.,  0.,  0.,  0.,  0.]]),\n",
       " array([[ 0.,  0.,  0.,  0., -1.,  0., -1.,  1.,  0.,  0.,  0.,  0.,  0.,\n",
       "          0.,  0.,  0.,  0., -1., -1.,  0., -1.,  1.,  0.],\n",
       "        [ 0.,  0.,  1.,  0., -0.,  0.,  0.,  0.,  0.,  0.,  0.,  0.,  0.,\n",
       "          0.,  0.,  0.,  0.,  0.,  0., -1., -1.,  0.,  0.],\n",
       "        [ 1., -1.,  0., -1.,  0., -1.,  0.,  0.,  1.,  1.,  0.,  0.,  0.,\n",
       "          1.,  0.,  0.,  0., -1., -1.,  0., -1.,  1.,  1.],\n",
       "        [ 0.,  0.,  0.,  0.,  0.,  0., -1.,  0.,  0.,  0.,  0.,  0.,  0.,\n",
       "          0., -1.,  0., -1.,  0.,  0.,  0.,  0.,  0.,  0.],\n",
       "        [ 0.,  0.,  0.,  0.,  0.,  0.,  0.,  0.,  0., -1.,  0.,  1.,  1.,\n",
       "          0., -1.,  0.,  0.,  0.,  1., -1.,  0.,  0.,  0.],\n",
       "        [ 0.,  0.,  0.,  0.,  0., -1.,  0.,  0.,  0.,  0.,  0.,  0.,  1.,\n",
       "          1., -1.,  0.,  0.,  0.,  0.,  0.,  0.,  0.,  1.],\n",
       "        [ 1.,  0.,  0.,  0.,  0.,  0.,  0., -1.,  0.,  0.,  0.,  0.,  0.,\n",
       "         -1.,  1.,  1.,  0.,  0.,  0.,  0.,  0.,  0.,  0.],\n",
       "        [ 1.,  0., -1.,  0.,  0.,  0.,  0.,  0.,  1.,  0.,  1.,  0.,  0.,\n",
       "         -1.,  1.,  1.,  0.,  0.,  0.,  0.,  0.,  1., -1.],\n",
       "        [ 0.,  1.,  0.,  0.,  0.,  0.,  0.,  0.,  0.,  0.,  0.,  0.,  0.,\n",
       "         -1.,  1.,  1.,  0.,  0.,  0.,  0.,  0.,  0., -1.]]),\n",
       " array([[ 0.,  0.,  0.,  0., -1.,  0.,  1., -1.,  0.,  0.,  0.,  0.,  0.,\n",
       "          0.,  0.,  0.,  0.,  0.,  0.,  0.,  0.,  0.,  0.],\n",
       "        [ 0.,  0., -1.,  0.,  0.,  0.,  0.,  0.,  0.,  0.,  0.,  0.,  0.,\n",
       "          0.,  0.,  0.,  0.,  1., -1., -1., -1., -1.,  0.],\n",
       "        [ 1.,  1.,  0.,  0.,  1.,  1.,  0.,  0.,  0.,  0.,  0.,  0.,  0.,\n",
       "         -1.,  0., -1.,  0., -1.,  0.,  0.,  0., -0.,  0.],\n",
       "        [ 0.,  0.,  0.,  0.,  0.,  0.,  1.,  0.,  0.,  1.,  0.,  0.,  0.,\n",
       "         -1., -1.,  0.,  0.,  0., -1.,  0.,  0.,  0., -1.],\n",
       "        [ 0.,  0.,  0.,  1.,  0.,  0.,  0.,  0., -1., -1., -1.,  0.,  0.,\n",
       "          0.,  0.,  0.,  0.,  0.,  0., -1.,  0.,  0.,  0.],\n",
       "        [ 0.,  0.,  0., -1.,  0.,  1.,  0.,  0.,  1.,  0.,  1.,  0.,  0.,\n",
       "          0.,  0.,  0.,  0.,  0.,  0.,  0.,  0.,  0.,  1.],\n",
       "        [-1.,  0.,  0.,  0.,  0.,  0.,  0.,  1.,  1.,  0.,  0.,  0.,  0.,\n",
       "          0.,  0.,  0.,  1.,  0.,  0.,  0.,  0.,  1.,  0.],\n",
       "        [ 0.,  0.,  1.,  1.,  0.,  0.,  0.,  0., -1., -1.,  0., -1.,  0.,\n",
       "          0.,  0.,  0.,  0.,  0.,  0.,  0.,  0.,  0.,  0.],\n",
       "        [ 0., -1.,  0., -1.,  0.,  0.,  0.,  0.,  0.,  1.,  0.,  1.,  1.,\n",
       "          0.,  0.,  0.,  0.,  0.,  0.,  0.,  0.,  0.,  0.]])]"
      ]
     },
     "execution_count": 5,
     "metadata": {},
     "output_type": "execute_result"
    }
   ],
   "execution_count": 5
  },
  {
   "metadata": {},
   "cell_type": "markdown",
   "source": "Finally, it's time for a benchmark on different sizes (n, m, p).",
   "id": "12e5da14db97d74c"
  },
  {
   "metadata": {
    "ExecuteTime": {
     "end_time": "2025-10-05T15:36:13.265629Z",
     "start_time": "2025-10-05T15:34:00.852071Z"
    }
   },
   "cell_type": "code",
   "source": [
    "sizes = [(2, 2, 2), (2, 2, 3), (2, 2, 4), (2, 2, 5), (2, 3, 3), (2, 3, 4), (2, 3, 5), (2, 4, 4), (2, 4, 5), (2, 5, 5), (3, 3, 3), (3, 3, 4), (3, 3, 5), (3, 4, 4), (3, 4, 5), (4, 4, 4)]\n",
    "true_rs = [7, 11, 14, 18, 15, 20, 25, 26, 33, 40, 23, 29, 36, 38, 47, 49]\n",
    "print('n\\tm\\tp\\tr\\ttrue_r')\n",
    "for (n, m, p), true_r in zip(sizes, true_rs):\n",
    "    T = build_matmul_tensor(n, m, p)\n",
    "    r, _ = cp_rank(T)\n",
    "    print(f'{n}\\t{m}\\t{p}\\t{r}\\t{true_r}')"
   ],
   "id": "3555999959a34269",
   "outputs": [
    {
     "name": "stdout",
     "output_type": "stream",
     "text": [
      "n\tm\tp\tr\ttrue_r\n",
      "2\t2\t2\t7\t7\n",
      "2\t2\t3\t11\t11\n",
      "2\t2\t4\t14\t14\n",
      "2\t2\t5\t18\t18\n",
      "2\t3\t3\t15\t15\n",
      "2\t3\t4\t20\t20\n",
      "2\t3\t5\t25\t25\n",
      "2\t4\t4\t26\t26\n",
      "2\t4\t5\t33\t33\n",
      "2\t5\t5\t43\t40\n",
      "3\t3\t3\t23\t23\n",
      "3\t3\t4\t31\t29\n",
      "3\t3\t5\t38\t36\n",
      "3\t4\t4\t41\t38\n",
      "3\t4\t5\t51\t47\n",
      "4\t4\t4\t55\t49\n"
     ]
    }
   ],
   "execution_count": 6
  },
  {
   "metadata": {},
   "cell_type": "markdown",
   "source": "Notice our method finds optimal ranks when the rank is less than 25. In the larger cases, it's slightly worse (for now). One can increase `num_attempts` from 10 to, say, 100, but then the computation becomes proportionally slower.",
   "id": "35037a4337fc7bff"
  }
 ],
 "metadata": {
  "kernelspec": {
   "display_name": "FedroTensor",
   "language": "python",
   "name": "fedrotensor"
  },
  "language_info": {
   "codemirror_mode": {
    "name": "ipython",
    "version": 3
   },
   "file_extension": ".py",
   "mimetype": "text/x-python",
   "name": "python",
   "nbconvert_exporter": "python",
   "pygments_lexer": "ipython3",
   "version": "3.11.13"
  }
 },
 "nbformat": 4,
 "nbformat_minor": 5
}
