{
 "cells": [
  {
   "metadata": {},
   "cell_type": "markdown",
   "source": [
    "## Discovering matrix multiplication algorithms\n",
    "\n",
    "Here we illustrate how remarkable FedroTensor is at finding fast matrix multiplication algorithms.\n",
    "Namely, our task is to minimise the number of scalar multiplications.\n",
    "This problem is equivalent to finding the lowest possible CP rank of a certain 3-dimensional tensor.\n",
    "\n",
    "Let's start with the 2x2 case. The naive approach results in 8 (=2x2x2) scalar multiplications, but there is a way to do it with only 7 multiplications, known as the Strassen algorithm.\n",
    "Let's see if our methods can recover it."
   ],
   "id": "94cd09350a83594c"
  },
  {
   "cell_type": "code",
   "id": "initial_id",
   "metadata": {
    "ExecuteTime": {
     "end_time": "2025-10-04T22:04:38.773445Z",
     "start_time": "2025-10-04T22:04:37.013730Z"
    }
   },
   "source": [
    "from src.tensor_rank import cp_rank\n",
    "from src.matmul_tensor import build_matmul_tensor\n",
    "\n",
    "T = build_matmul_tensor(2, 2, 2)\n",
    "r, factors = cp_rank(T)\n",
    "r"
   ],
   "outputs": [
    {
     "data": {
      "text/plain": [
       "7"
      ]
     },
     "execution_count": 14,
     "metadata": {},
     "output_type": "execute_result"
    }
   ],
   "execution_count": 14
  },
  {
   "metadata": {},
   "cell_type": "markdown",
   "source": "The rank indeed corresponds to the Strassen algorithm cost. Let's see if we can recover the algorithm from the factors.",
   "id": "7959a31222810f6f"
  },
  {
   "metadata": {
    "ExecuteTime": {
     "end_time": "2025-10-04T22:04:52.600580Z",
     "start_time": "2025-10-04T22:04:52.595210Z"
    }
   },
   "cell_type": "code",
   "source": "factors",
   "id": "a9625d71b751ac99",
   "outputs": [
    {
     "data": {
      "text/plain": [
       "[array([[ 0.01769191,  0.43929366,  0.53100648,  1.22937847,  0.87743719,\n",
       "          0.02910171,  1.04992179],\n",
       "        [-0.04391392, -1.07318842,  0.64202131, -0.26205907, -0.21897871,\n",
       "          0.03497627, -0.2243904 ],\n",
       "        [-0.38836249, -0.15485323,  0.30435333, -0.43265363,  0.17889843,\n",
       "         -0.62831518,  0.6025638 ],\n",
       "        [ 0.94863385,  0.37700718,  0.36823169,  0.09175423,  0.66659961,\n",
       "         -0.75986475, -0.12872803]]),\n",
       " array([[-0.00475142, -0.17473639, -0.17209083, -0.90783198, -0.36046859,\n",
       "         -0.00662175, -0.77041184],\n",
       "        [-0.85691468, -0.060133  ,  0.08424802, -0.31219564, -1.13605913,\n",
       "         -1.2447182 ,  0.37349623],\n",
       "        [ 0.00424097, -0.81859572, -0.80879407, -0.37168878, -1.65632527,\n",
       "         -0.00255727,  0.63648553],\n",
       "        [ 0.70841483, -0.28168357,  0.39246513, -0.12808374,  0.26700653,\n",
       "         -0.51008773, -0.30913612]]),\n",
       " array([[ 0.17217918,  0.7430965 , -0.66007923, -0.6086962 ,  0.02104419,\n",
       "          0.16450365, -0.39962625],\n",
       "        [ 0.3538811 ,  1.53003968,  1.91912951,  0.00325339, -0.9470725 ,\n",
       "         -0.47854373,  0.00245056],\n",
       "        [ 0.48844935,  0.03389214, -0.03086188,  1.06154278, -0.85558342,\n",
       "         -0.28698015, -1.13415556],\n",
       "        [ 1.00725752,  0.07027238,  0.08790958, -0.00609062, -0.03867274,\n",
       "          0.83448485,  0.00630471]])]"
      ]
     },
     "execution_count": 15,
     "metadata": {},
     "output_type": "execute_result"
    }
   ],
   "execution_count": 15
  },
  {
   "metadata": {},
   "cell_type": "markdown",
   "source": [
    "Not helpful indeed...\n",
    "\n",
    "Ideally, we would like to have integer factors, or at least the rational ones. We can compute them by specifying `rational=True`:"
   ],
   "id": "2719b34bfb507cda"
  },
  {
   "metadata": {
    "ExecuteTime": {
     "end_time": "2025-10-04T22:05:21.675809Z",
     "start_time": "2025-10-04T22:05:01.590071Z"
    }
   },
   "cell_type": "code",
   "source": [
    "r, factors = cp_rank(T, rational=True)\n",
    "factors"
   ],
   "id": "b7606493fa9001e7",
   "outputs": [
    {
     "data": {
      "text/plain": [
       "[array([[ 0.,  0.,  0.,  1.,  0.,  0., -1.],\n",
       "        [-1., -1.,  0.,  0.,  0.,  1.,  1.],\n",
       "        [ 0.,  1., -1., -1.,  1.,  0.,  0.],\n",
       "        [ 1.,  0.,  0.,  0., -1.,  0.,  0.]]),\n",
       " array([[ 0.,  0.,  1.,  1.,  0.,  0.,  0.],\n",
       "        [ 0., -1.,  0., -1.,  0.,  1., -1.],\n",
       "        [ 1., -1.,  1.,  0., -1.,  0.,  0.],\n",
       "        [-1.,  0.,  0.,  0.,  0.,  1.,  0.]]),\n",
       " array([[ 0.,  1., -1.,  1.,  0.,  0.,  1.],\n",
       "        [ 0.,  0.,  0.,  0.,  0.,  1.,  1.],\n",
       "        [ 0.,  0., -1.,  0.,  1.,  0.,  0.],\n",
       "        [-1., -1.,  0.,  0.,  1.,  1.,  0.]])]"
      ]
     },
     "execution_count": 16,
     "metadata": {},
     "output_type": "execute_result"
    }
   ],
   "execution_count": 16
  },
  {
   "metadata": {},
   "cell_type": "markdown",
   "source": [
    "That's much better, as we can now write down the algorithm precisely.\n",
    "\n",
    "Let's consider the 3x3 case. The best known algorithm (the Laderman's algorithm) has 23 multiplications. Remarkably, our method manages to find rank 23:"
   ],
   "id": "34cc62d407760b2b"
  },
  {
   "metadata": {
    "ExecuteTime": {
     "end_time": "2025-10-04T22:06:24.373695Z",
     "start_time": "2025-10-04T22:06:09.609376Z"
    }
   },
   "cell_type": "code",
   "source": [
    "T = build_matmul_tensor(3, 3, 3)\n",
    "r, factors = cp_rank(T)\n",
    "r"
   ],
   "id": "eee0add1b954c25",
   "outputs": [
    {
     "data": {
      "text/plain": [
       "23"
      ]
     },
     "execution_count": 17,
     "metadata": {},
     "output_type": "execute_result"
    }
   ],
   "execution_count": 17
  },
  {
   "metadata": {},
   "cell_type": "markdown",
   "source": "Computing rational factors takes slightly longer, but it's definitely worth it:",
   "id": "5498fd1a7c4cf0b5"
  },
  {
   "metadata": {
    "ExecuteTime": {
     "end_time": "2025-10-04T22:39:11.885759Z",
     "start_time": "2025-10-04T22:37:04.850609Z"
    }
   },
   "cell_type": "code",
   "source": [
    "r, factors = cp_rank(T, rational=True)\n",
    "factors"
   ],
   "id": "713d2114c9002a0d",
   "outputs": [
    {
     "data": {
      "text/plain": [
       "[array([[ 0.,  0.,  0.,  0., -1.,  1.,  0.,  0.,  0.,  0.,  0.,  1.,  0.,\n",
       "          0.,  0.,  0.,  0.,  0.,  0.,  1.,  1.,  1.,  0.],\n",
       "        [ 1.,  1.,  0., -1.,  0.,  0.,  0.,  0., -1., -1., -1.,  0.,  0.,\n",
       "          0.,  0., -1.,  0.,  0.,  0.,  0.,  0.,  0.,  1.],\n",
       "        [ 0., -1., -1.,  0.,  1., -1.,  0.,  0.,  0.,  0.,  0.,  0.,  0.,\n",
       "          0.,  0.,  0.,  0.,  0.,  0.,  0., -1.,  0.,  0.],\n",
       "        [ 0.,  0.,  0.,  0.,  0.,  0.,  0.,  0.,  0.,  0.,  0., -1.,  1.,\n",
       "          0.,  0.,  0.,  0.,  0.,  0.,  0.,  0.,  0.,  1.],\n",
       "        [ 0.,  0.,  0.,  1.,  0.,  0.,  0.,  0.,  1.,  0.,  0.,  0.,  0.,\n",
       "          0.,  0.,  1.,  0.,  1.,  0.,  0.,  0.,  0., -1.],\n",
       "        [ 0.,  0.,  1.,  0.,  0.,  0.,  0.,  0.,  0.,  1.,  0.,  0., -1.,\n",
       "          0.,  0.,  0., -1., -1.,  0., -1.,  0.,  0., -1.],\n",
       "        [ 0.,  0.,  0.,  0.,  1.,  0., -1.,  1.,  1.,  0.,  0.,  0.,  0.,\n",
       "          0.,  0.,  0.,  0.,  0.,  0.,  0.,  0.,  0., -1.],\n",
       "        [ 0.,  0.,  0.,  0.,  0.,  0.,  0., -1., -1.,  0.,  0.,  0.,  0.,\n",
       "          0.,  0., -1.,  0.,  0.,  1.,  0.,  0.,  0.,  1.],\n",
       "        [ 0.,  1.,  0.,  0., -1.,  0.,  0.,  0.,  0.,  0.,  0.,  0.,  0.,\n",
       "          1., -1.,  0.,  0.,  0.,  0.,  0.,  1.,  0.,  0.]]),\n",
       " array([[ 0., -1.,  0.,  0., -1.,  0.,  1.,  0.,  0., -1., -1.,  0., -1.,\n",
       "          0.,  0.,  0.,  1.,  0.,  0.,  0., -1.,  0.,  0.],\n",
       "        [ 0.,  0.,  0.,  0.,  0.,  0., -1.,  0., -1.,  0.,  0.,  0.,  0.,\n",
       "          0.,  0.,  1., -1.,  0.,  0., -1.,  0.,  1., -1.],\n",
       "        [ 0.,  0.,  0.,  0.,  0.,  0.,  0.,  0., -1.,  0.,  0., -1.,  0.,\n",
       "          0.,  0.,  1., -1.,  0.,  0., -1.,  0.,  0., -1.],\n",
       "        [ 0.,  0.,  0.,  0.,  0.,  0.,  0.,  0.,  0., -1., -1.,  0.,  0.,\n",
       "          0.,  0.,  0.,  1., -1., -1.,  0.,  0.,  0.,  0.],\n",
       "        [ 1.,  0.,  0.,  0.,  0.,  0., -1.,  1., -1.,  0.,  0.,  0.,  0.,\n",
       "          0.,  0.,  1.,  0.,  0.,  0.,  0.,  0.,  0.,  0.],\n",
       "        [ 0.,  0.,  0.,  1.,  0.,  0.,  0.,  0.,  0.,  1.,  0.,  0.,  0.,\n",
       "          0.,  0.,  1., -1.,  1.,  0.,  0.,  0.,  0.,  0.],\n",
       "        [ 0., -1.,  0.,  0.,  0.,  0.,  0.,  0.,  0., -1., -1.,  0.,  0.,\n",
       "          0., -1.,  0.,  1.,  0.,  0.,  0.,  0.,  0.,  0.],\n",
       "        [ 0.,  0.,  0.,  0.,  0., -1.,  0.,  0.,  0.,  0.,  0.,  0.,  0.,\n",
       "         -1.,  1.,  0., -1.,  0.,  0., -1., -1.,  1.,  0.],\n",
       "        [ 0.,  0.,  1.,  0.,  0.,  0.,  0.,  0.,  0.,  0.,  0.,  0.,  0.,\n",
       "         -1.,  0.,  0., -1.,  0.,  0.,  0.,  0.,  0.,  0.]]),\n",
       " array([[ 0.,  1.,  0.,  0.,  0.,  1.,  0.,  0.,  0.,  0.,  1.,  0.,  0.,\n",
       "          0.,  1.,  0.,  0.,  0.,  0.,  0., -1.,  0.,  0.],\n",
       "        [ 1.,  0.,  0.,  0.,  0.,  1.,  0.,  0.,  0.,  0.,  0.,  0.,  0.,\n",
       "          0.,  0.,  0.,  0.,  0.,  0.,  0.,  0.,  1.,  0.],\n",
       "        [ 0.,  0., -1.,  0.,  0.,  0.,  0.,  0.,  0., -1.,  1.,  0.,  0.,\n",
       "          0.,  0.,  0.,  1.,  0.,  0., -1.,  0., -1.,  0.],\n",
       "        [ 0.,  0.,  0.,  1.,  0.,  0.,  0.,  0.,  0., -1.,  1.,  0., -1.,\n",
       "          0.,  0.,  0.,  0., -1.,  0.,  0.,  0.,  0.,  0.],\n",
       "        [ 1.,  0.,  0.,  0.,  0.,  0.,  0., -1., -1.,  0.,  0., -1.,  0.,\n",
       "          0.,  0.,  0.,  0.,  0.,  0.,  1.,  0.,  1., -1.],\n",
       "        [ 0.,  0.,  0.,  1.,  0.,  0.,  0.,  0.,  0., -1.,  1.,  1.,  0.,\n",
       "          0.,  0.,  0.,  1.,  0.,  0., -1.,  0., -1.,  0.],\n",
       "        [ 0.,  0.,  0.,  0., -1.,  1.,  0.,  0.,  0.,  0.,  0.,  0.,  0.,\n",
       "          0.,  1.,  0.,  0.,  0., -1.,  0., -1.,  0.,  0.],\n",
       "        [ 0.,  0.,  0.,  0., -1.,  1.,  1., -1.,  0.,  0.,  0.,  0.,  0.,\n",
       "          0.,  0.,  0.,  0.,  0.,  0.,  0., -1.,  0.,  0.],\n",
       "        [ 0.,  0.,  0.,  1.,  1., -1., -1.,  0., -1.,  0.,  0.,  0.,  0.,\n",
       "         -1.,  0., -1.,  0.,  0.,  0.,  0.,  1.,  0.,  0.]])]"
      ]
     },
     "execution_count": 19,
     "metadata": {},
     "output_type": "execute_result"
    }
   ],
   "execution_count": 19
  },
  {
   "metadata": {},
   "cell_type": "markdown",
   "source": "Finally, it's time for a benchmark on different sizes (n, m, p).",
   "id": "12e5da14db97d74c"
  },
  {
   "metadata": {
    "ExecuteTime": {
     "end_time": "2025-10-04T23:12:43.948235Z",
     "start_time": "2025-10-04T23:08:11.743944Z"
    }
   },
   "cell_type": "code",
   "source": [
    "sizes = [(2, 2, 2), (2, 2, 3), (2, 2, 4), (2, 2, 5), (2, 3, 3), (2, 3, 4), (2, 3, 5), (2, 4, 4), (2, 4, 5), (2, 5, 5), (3, 3, 3), (3, 3, 4), (3, 3, 5), (3, 4, 4), (3, 4, 5), (4, 4, 4)]\n",
    "true_rs = [7, 11, 14, 18, 15, 20, 25, 26, 33, 40, 23, 29, 36, 38, 47, 49]\n",
    "print('n\\tm\\tp\\tr\\ttrue_r')\n",
    "for (n, m, p), true_r in zip(sizes, true_rs):\n",
    "    T = build_matmul_tensor(n, m, p)\n",
    "    r, _ = cp_rank(T)\n",
    "    print(f'{n}\\t{m}\\t{p}\\t{r}\\t{true_r}')"
   ],
   "id": "3555999959a34269",
   "outputs": [
    {
     "name": "stdout",
     "output_type": "stream",
     "text": [
      "n\tm\tp\tr\ttrue_r\n",
      "2\t2\t2\t7\t7\n",
      "2\t2\t3\t11\t11\n",
      "2\t2\t4\t14\t14\n",
      "2\t2\t5\t18\t18\n",
      "2\t3\t3\t15\t15\n",
      "2\t3\t4\t20\t20\n",
      "2\t3\t5\t26\t25\n",
      "2\t4\t4\t26\t26\n",
      "2\t4\t5\t34\t33\n",
      "2\t5\t5\t41\t40\n",
      "3\t3\t3\t23\t23\n",
      "3\t3\t4\t31\t29\n",
      "3\t3\t5\t39\t36\n",
      "3\t4\t4\t42\t38\n",
      "3\t4\t5\t52\t47\n",
      "4\t4\t4\t56\t49\n"
     ]
    }
   ],
   "execution_count": 21
  },
  {
   "metadata": {},
   "cell_type": "markdown",
   "source": "Notice our method finds optimal ranks when the rank is less than 25. In the larger cases, it's slightly worse (for now). One can increase `num_attempts` from 10 to, say, 100, but then the computation becomes proportionally slower.",
   "id": "35037a4337fc7bff"
  }
 ],
 "metadata": {
  "kernelspec": {
   "display_name": "FedroTensor",
   "language": "python",
   "name": "fedrotensor"
  },
  "language_info": {
   "codemirror_mode": {
    "name": "ipython",
    "version": 3
   },
   "file_extension": ".py",
   "mimetype": "text/x-python",
   "name": "python",
   "nbconvert_exporter": "python",
   "pygments_lexer": "ipython3",
   "version": "3.11.13"
  }
 },
 "nbformat": 4,
 "nbformat_minor": 5
}
