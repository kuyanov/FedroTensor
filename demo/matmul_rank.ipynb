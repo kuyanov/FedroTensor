{
 "cells": [
  {
   "metadata": {},
   "cell_type": "markdown",
   "source": [
    "## Discovering matrix multiplication algorithms\n",
    "\n",
    "Here we illustrate how remarkable FedroTensor is at finding fast matrix multiplication algorithms.\n",
    "Namely, our task is to minimise the number of scalar multiplications.\n",
    "This problem is equivalent to finding the lowest possible CP rank of a certain 3-dimensional tensor.\n",
    "\n",
    "Let's start with the 2x2 case. The naive approach results in 8 (=2x2x2) scalar multiplications, but there is a way to do it with only 7 multiplications, known as the Strassen algorithm.\n",
    "Let's see if our methods can recover it."
   ],
   "id": "94cd09350a83594c"
  },
  {
   "cell_type": "code",
   "id": "initial_id",
   "metadata": {
    "ExecuteTime": {
     "end_time": "2025-10-05T00:11:45.677098Z",
     "start_time": "2025-10-05T00:11:43.820767Z"
    }
   },
   "source": [
    "from FedroTensor.tensor_rank import cp_rank\n",
    "from FedroTensor.matmul_tensor import build_matmul_tensor\n",
    "\n",
    "T = build_matmul_tensor(2, 2, 2)\n",
    "r, factors = cp_rank(T)\n",
    "r"
   ],
   "outputs": [
    {
     "data": {
      "text/plain": [
       "7"
      ]
     },
     "execution_count": 22,
     "metadata": {},
     "output_type": "execute_result"
    }
   ],
   "execution_count": 22
  },
  {
   "metadata": {},
   "cell_type": "markdown",
   "source": "The rank indeed corresponds to the Strassen algorithm cost. Let's see if we can recover the algorithm from the factors.",
   "id": "7959a31222810f6f"
  },
  {
   "metadata": {
    "ExecuteTime": {
     "end_time": "2025-10-05T00:11:48.436108Z",
     "start_time": "2025-10-05T00:11:48.428078Z"
    }
   },
   "cell_type": "code",
   "source": "factors",
   "id": "a9625d71b751ac99",
   "outputs": [
    {
     "data": {
      "text/plain": [
       "[array([[ 0.6988722 , -1.15468194,  0.91949613, -0.22426491, -0.2524747 ,\n",
       "          0.11743307,  0.75734964],\n",
       "        [ 0.8833869 , -0.26718334, -0.13656764,  0.64163105, -0.31864572,\n",
       "         -0.33412897, -0.11178165],\n",
       "        [-0.10660735, -0.29681378, -0.13902532, -0.33043288,  0.77278801,\n",
       "         -0.35755047,  1.1179974 ],\n",
       "        [-0.13364547,  1.38626854,  0.02127065,  0.94621386,  0.97784532,\n",
       "          1.02445013, -0.16502191]]),\n",
       " array([[ 0.03821822, -0.74008811, -0.20667224, -0.16313111, -1.14417988,\n",
       "          0.62772695,  0.72965168],\n",
       "        [ 0.16702723, -0.14546231, -0.90434511,  0.13017963, -0.38191673,\n",
       "          0.20955392, -0.57827813],\n",
       "        [ 0.25972843, -0.09706048,  0.16330807, -1.10543067, -0.39962335,\n",
       "         -0.497342  ,  0.255311  ],\n",
       "        [ 1.13130903,  0.65637623,  0.71487949,  0.87674152, -0.13326565,\n",
       "         -0.16520449, -0.20166921]]),\n",
       " array([[ 0.63317248,  1.13509574,  0.35301237, -0.84984927, -0.08744625,\n",
       "          1.46891907,  0.05295654],\n",
       "        [ 0.79845941, -0.10162829, -1.05606025,  0.19430458, -0.11054841,\n",
       "         -0.33600669, -0.15743754],\n",
       "        [ 0.20703606,  0.00840792, -0.23862072, -0.27790148, -0.57988397,\n",
       "         -0.99481998,  0.34628747],\n",
       "        [ 0.26029789,  1.04876723,  0.71568148,  0.06382638, -0.73058354,\n",
       "          0.2278775 , -1.03942889]])]"
      ]
     },
     "execution_count": 23,
     "metadata": {},
     "output_type": "execute_result"
    }
   ],
   "execution_count": 23
  },
  {
   "metadata": {},
   "cell_type": "markdown",
   "source": [
    "Not helpful indeed...\n",
    "\n",
    "Ideally, we would like to have integer factors, or at least the rational ones. We can compute them by specifying `rational=True`:"
   ],
   "id": "2719b34bfb507cda"
  },
  {
   "metadata": {
    "ExecuteTime": {
     "end_time": "2025-10-04T22:05:21.675809Z",
     "start_time": "2025-10-04T22:05:01.590071Z"
    }
   },
   "cell_type": "code",
   "source": [
    "r, factors = cp_rank(T, rational=True)\n",
    "factors"
   ],
   "id": "b7606493fa9001e7",
   "outputs": [
    {
     "data": {
      "text/plain": [
       "[array([[ 0.,  0.,  0.,  1.,  0.,  0., -1.],\n",
       "        [-1., -1.,  0.,  0.,  0.,  1.,  1.],\n",
       "        [ 0.,  1., -1., -1.,  1.,  0.,  0.],\n",
       "        [ 1.,  0.,  0.,  0., -1.,  0.,  0.]]),\n",
       " array([[ 0.,  0.,  1.,  1.,  0.,  0.,  0.],\n",
       "        [ 0., -1.,  0., -1.,  0.,  1., -1.],\n",
       "        [ 1., -1.,  1.,  0., -1.,  0.,  0.],\n",
       "        [-1.,  0.,  0.,  0.,  0.,  1.,  0.]]),\n",
       " array([[ 0.,  1., -1.,  1.,  0.,  0.,  1.],\n",
       "        [ 0.,  0.,  0.,  0.,  0.,  1.,  1.],\n",
       "        [ 0.,  0., -1.,  0.,  1.,  0.,  0.],\n",
       "        [-1., -1.,  0.,  0.,  1.,  1.,  0.]])]"
      ]
     },
     "execution_count": 16,
     "metadata": {},
     "output_type": "execute_result"
    }
   ],
   "execution_count": 16
  },
  {
   "metadata": {},
   "cell_type": "markdown",
   "source": [
    "That's much better, as we can now write down the algorithm precisely.\n",
    "\n",
    "Let's consider the 3x3 case. The best known algorithm (the Laderman's algorithm) has 23 multiplications. Remarkably, our method manages to find rank 23:"
   ],
   "id": "34cc62d407760b2b"
  },
  {
   "metadata": {
    "ExecuteTime": {
     "end_time": "2025-10-04T22:06:24.373695Z",
     "start_time": "2025-10-04T22:06:09.609376Z"
    }
   },
   "cell_type": "code",
   "source": [
    "T = build_matmul_tensor(3, 3, 3)\n",
    "r, factors = cp_rank(T)\n",
    "r"
   ],
   "id": "eee0add1b954c25",
   "outputs": [
    {
     "data": {
      "text/plain": [
       "23"
      ]
     },
     "execution_count": 17,
     "metadata": {},
     "output_type": "execute_result"
    }
   ],
   "execution_count": 17
  },
  {
   "metadata": {},
   "cell_type": "markdown",
   "source": "Computing rational factors takes slightly longer, but it's definitely worth it:",
   "id": "5498fd1a7c4cf0b5"
  },
  {
   "metadata": {
    "ExecuteTime": {
     "end_time": "2025-10-04T22:39:11.885759Z",
     "start_time": "2025-10-04T22:37:04.850609Z"
    }
   },
   "cell_type": "code",
   "source": [
    "r, factors = cp_rank(T, rational=True)\n",
    "factors"
   ],
   "id": "713d2114c9002a0d",
   "outputs": [
    {
     "data": {
      "text/plain": [
       "[array([[ 0.,  0.,  0.,  0., -1.,  1.,  0.,  0.,  0.,  0.,  0.,  1.,  0.,\n",
       "          0.,  0.,  0.,  0.,  0.,  0.,  1.,  1.,  1.,  0.],\n",
       "        [ 1.,  1.,  0., -1.,  0.,  0.,  0.,  0., -1., -1., -1.,  0.,  0.,\n",
       "          0.,  0., -1.,  0.,  0.,  0.,  0.,  0.,  0.,  1.],\n",
       "        [ 0., -1., -1.,  0.,  1., -1.,  0.,  0.,  0.,  0.,  0.,  0.,  0.,\n",
       "          0.,  0.,  0.,  0.,  0.,  0.,  0., -1.,  0.,  0.],\n",
       "        [ 0.,  0.,  0.,  0.,  0.,  0.,  0.,  0.,  0.,  0.,  0., -1.,  1.,\n",
       "          0.,  0.,  0.,  0.,  0.,  0.,  0.,  0.,  0.,  1.],\n",
       "        [ 0.,  0.,  0.,  1.,  0.,  0.,  0.,  0.,  1.,  0.,  0.,  0.,  0.,\n",
       "          0.,  0.,  1.,  0.,  1.,  0.,  0.,  0.,  0., -1.],\n",
       "        [ 0.,  0.,  1.,  0.,  0.,  0.,  0.,  0.,  0.,  1.,  0.,  0., -1.,\n",
       "          0.,  0.,  0., -1., -1.,  0., -1.,  0.,  0., -1.],\n",
       "        [ 0.,  0.,  0.,  0.,  1.,  0., -1.,  1.,  1.,  0.,  0.,  0.,  0.,\n",
       "          0.,  0.,  0.,  0.,  0.,  0.,  0.,  0.,  0., -1.],\n",
       "        [ 0.,  0.,  0.,  0.,  0.,  0.,  0., -1., -1.,  0.,  0.,  0.,  0.,\n",
       "          0.,  0., -1.,  0.,  0.,  1.,  0.,  0.,  0.,  1.],\n",
       "        [ 0.,  1.,  0.,  0., -1.,  0.,  0.,  0.,  0.,  0.,  0.,  0.,  0.,\n",
       "          1., -1.,  0.,  0.,  0.,  0.,  0.,  1.,  0.,  0.]]),\n",
       " array([[ 0., -1.,  0.,  0., -1.,  0.,  1.,  0.,  0., -1., -1.,  0., -1.,\n",
       "          0.,  0.,  0.,  1.,  0.,  0.,  0., -1.,  0.,  0.],\n",
       "        [ 0.,  0.,  0.,  0.,  0.,  0., -1.,  0., -1.,  0.,  0.,  0.,  0.,\n",
       "          0.,  0.,  1., -1.,  0.,  0., -1.,  0.,  1., -1.],\n",
       "        [ 0.,  0.,  0.,  0.,  0.,  0.,  0.,  0., -1.,  0.,  0., -1.,  0.,\n",
       "          0.,  0.,  1., -1.,  0.,  0., -1.,  0.,  0., -1.],\n",
       "        [ 0.,  0.,  0.,  0.,  0.,  0.,  0.,  0.,  0., -1., -1.,  0.,  0.,\n",
       "          0.,  0.,  0.,  1., -1., -1.,  0.,  0.,  0.,  0.],\n",
       "        [ 1.,  0.,  0.,  0.,  0.,  0., -1.,  1., -1.,  0.,  0.,  0.,  0.,\n",
       "          0.,  0.,  1.,  0.,  0.,  0.,  0.,  0.,  0.,  0.],\n",
       "        [ 0.,  0.,  0.,  1.,  0.,  0.,  0.,  0.,  0.,  1.,  0.,  0.,  0.,\n",
       "          0.,  0.,  1., -1.,  1.,  0.,  0.,  0.,  0.,  0.],\n",
       "        [ 0., -1.,  0.,  0.,  0.,  0.,  0.,  0.,  0., -1., -1.,  0.,  0.,\n",
       "          0., -1.,  0.,  1.,  0.,  0.,  0.,  0.,  0.,  0.],\n",
       "        [ 0.,  0.,  0.,  0.,  0., -1.,  0.,  0.,  0.,  0.,  0.,  0.,  0.,\n",
       "         -1.,  1.,  0., -1.,  0.,  0., -1., -1.,  1.,  0.],\n",
       "        [ 0.,  0.,  1.,  0.,  0.,  0.,  0.,  0.,  0.,  0.,  0.,  0.,  0.,\n",
       "         -1.,  0.,  0., -1.,  0.,  0.,  0.,  0.,  0.,  0.]]),\n",
       " array([[ 0.,  1.,  0.,  0.,  0.,  1.,  0.,  0.,  0.,  0.,  1.,  0.,  0.,\n",
       "          0.,  1.,  0.,  0.,  0.,  0.,  0., -1.,  0.,  0.],\n",
       "        [ 1.,  0.,  0.,  0.,  0.,  1.,  0.,  0.,  0.,  0.,  0.,  0.,  0.,\n",
       "          0.,  0.,  0.,  0.,  0.,  0.,  0.,  0.,  1.,  0.],\n",
       "        [ 0.,  0., -1.,  0.,  0.,  0.,  0.,  0.,  0., -1.,  1.,  0.,  0.,\n",
       "          0.,  0.,  0.,  1.,  0.,  0., -1.,  0., -1.,  0.],\n",
       "        [ 0.,  0.,  0.,  1.,  0.,  0.,  0.,  0.,  0., -1.,  1.,  0., -1.,\n",
       "          0.,  0.,  0.,  0., -1.,  0.,  0.,  0.,  0.,  0.],\n",
       "        [ 1.,  0.,  0.,  0.,  0.,  0.,  0., -1., -1.,  0.,  0., -1.,  0.,\n",
       "          0.,  0.,  0.,  0.,  0.,  0.,  1.,  0.,  1., -1.],\n",
       "        [ 0.,  0.,  0.,  1.,  0.,  0.,  0.,  0.,  0., -1.,  1.,  1.,  0.,\n",
       "          0.,  0.,  0.,  1.,  0.,  0., -1.,  0., -1.,  0.],\n",
       "        [ 0.,  0.,  0.,  0., -1.,  1.,  0.,  0.,  0.,  0.,  0.,  0.,  0.,\n",
       "          0.,  1.,  0.,  0.,  0., -1.,  0., -1.,  0.,  0.],\n",
       "        [ 0.,  0.,  0.,  0., -1.,  1.,  1., -1.,  0.,  0.,  0.,  0.,  0.,\n",
       "          0.,  0.,  0.,  0.,  0.,  0.,  0., -1.,  0.,  0.],\n",
       "        [ 0.,  0.,  0.,  1.,  1., -1., -1.,  0., -1.,  0.,  0.,  0.,  0.,\n",
       "         -1.,  0., -1.,  0.,  0.,  0.,  0.,  1.,  0.,  0.]])]"
      ]
     },
     "execution_count": 19,
     "metadata": {},
     "output_type": "execute_result"
    }
   ],
   "execution_count": 19
  },
  {
   "metadata": {},
   "cell_type": "markdown",
   "source": "Finally, it's time for a benchmark on different sizes (n, m, p).",
   "id": "12e5da14db97d74c"
  },
  {
   "metadata": {
    "ExecuteTime": {
     "end_time": "2025-10-04T23:12:43.948235Z",
     "start_time": "2025-10-04T23:08:11.743944Z"
    }
   },
   "cell_type": "code",
   "source": [
    "sizes = [(2, 2, 2), (2, 2, 3), (2, 2, 4), (2, 2, 5), (2, 3, 3), (2, 3, 4), (2, 3, 5), (2, 4, 4), (2, 4, 5), (2, 5, 5), (3, 3, 3), (3, 3, 4), (3, 3, 5), (3, 4, 4), (3, 4, 5), (4, 4, 4)]\n",
    "true_rs = [7, 11, 14, 18, 15, 20, 25, 26, 33, 40, 23, 29, 36, 38, 47, 49]\n",
    "print('n\\tm\\tp\\tr\\ttrue_r')\n",
    "for (n, m, p), true_r in zip(sizes, true_rs):\n",
    "    T = build_matmul_tensor(n, m, p)\n",
    "    r, _ = cp_rank(T)\n",
    "    print(f'{n}\\t{m}\\t{p}\\t{r}\\t{true_r}')"
   ],
   "id": "3555999959a34269",
   "outputs": [
    {
     "name": "stdout",
     "output_type": "stream",
     "text": [
      "n\tm\tp\tr\ttrue_r\n",
      "2\t2\t2\t7\t7\n",
      "2\t2\t3\t11\t11\n",
      "2\t2\t4\t14\t14\n",
      "2\t2\t5\t18\t18\n",
      "2\t3\t3\t15\t15\n",
      "2\t3\t4\t20\t20\n",
      "2\t3\t5\t26\t25\n",
      "2\t4\t4\t26\t26\n",
      "2\t4\t5\t34\t33\n",
      "2\t5\t5\t41\t40\n",
      "3\t3\t3\t23\t23\n",
      "3\t3\t4\t31\t29\n",
      "3\t3\t5\t39\t36\n",
      "3\t4\t4\t42\t38\n",
      "3\t4\t5\t52\t47\n",
      "4\t4\t4\t56\t49\n"
     ]
    }
   ],
   "execution_count": 21
  },
  {
   "metadata": {},
   "cell_type": "markdown",
   "source": "Notice our method finds optimal ranks when the rank is less than 25. In the larger cases, it's slightly worse (for now). One can increase `num_attempts` from 10 to, say, 100, but then the computation becomes proportionally slower.",
   "id": "35037a4337fc7bff"
  }
 ],
 "metadata": {
  "kernelspec": {
   "display_name": "FedroTensor",
   "language": "python",
   "name": "fedrotensor"
  },
  "language_info": {
   "codemirror_mode": {
    "name": "ipython",
    "version": 3
   },
   "file_extension": ".py",
   "mimetype": "text/x-python",
   "name": "python",
   "nbconvert_exporter": "python",
   "pygments_lexer": "ipython3",
   "version": "3.11.13"
  }
 },
 "nbformat": 4,
 "nbformat_minor": 5
}
